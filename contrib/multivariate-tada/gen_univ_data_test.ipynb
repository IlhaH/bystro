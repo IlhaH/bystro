{
  "nbformat": 4,
  "nbformat_minor": 0,
  "metadata": {
    "colab": {
      "provenance": []
    },
    "kernelspec": {
      "name": "python3",
      "display_name": "Python 3"
    },
    "language_info": {
      "name": "python"
    }
  },
  "cells": [
    {
      "cell_type": "code",
      "source": [
        "import pandas as pd\n",
        "import numpy as np\n",
        "import numpy.random as rand\n",
        "from gen_univ_data import *\n",
        "\n",
        "# Univariate data simulation test\n",
        "\n",
        "# Read mutation data\n",
        "tada_file = \"TADA_demo_counts_de-novo_and_inherited.txt\"\n",
        "tada_data = pd.read_table(tada_file)\n",
        "\n",
        "# Specify the number of families and the number of cases and control samples\n",
        "# included in the simulation, along with sample size\n",
        "N_family = 4500\n",
        "N_case = 1000\n",
        "N_ctrl = 3000\n",
        "n = 5000\n",
        "\n",
        "# Extract mutation rates from data\n",
        "mut_cls1 = tada_data[\"mut.cls1\"]\n",
        "mut_cls2 = tada_data[\"mut.cls2\"]\n",
        "\n",
        "# Varying gamma and q parameters for LOF and missense mutations, respectively\n",
        "gamma = [20, 4.7]\n",
        "q = [10**-4, 6*10**-4]\n",
        "\n",
        "# Generates data with chosen parameters\n",
        "df = gen_univ_data(gamma, q, N_family, N_case, N_ctrl, mut_cls1, mut_cls2, n)\n",
        "\n",
        "gene_names = tada_data[\"gene.id\"]\n",
        "df.insert(0,\"gene.id\",gene_names)\n",
        "\n",
        "# Exports output to text file\n",
        "df.to_csv('testUnivData.txt', index=False, sep='\\t')"
      ],
      "metadata": {
        "id": "hssjZtxVvSAL"
      },
      "execution_count": 4,
      "outputs": []
    }
  ]
}